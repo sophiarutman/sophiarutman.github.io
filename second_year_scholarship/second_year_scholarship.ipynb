{
 "cells": [
  {
   "cell_type": "markdown",
   "metadata": {},
   "source": [
    "---\n",
    "title: Second Year Scholarship Data Visualization\n",
    "\n",
    "format: \n",
    "    html: \n",
    "        embed-resources: true\n",
    "        toc: true\n",
    "        code-fold: true\n",
    "---"
   ]
  },
  {
   "cell_type": "code",
   "execution_count": 194,
   "metadata": {},
   "outputs": [],
   "source": [
    "import geopandas as gpd\n",
    "import matplotlib.pyplot as plt\n",
    "import pandas as pd\n",
    "import numpy as np\n",
    "import plotly.graph_objects as go\n",
    "\n",
    "\n",
    "\n",
    "\n",
    "\n"
   ]
  },
  {
   "cell_type": "markdown",
   "metadata": {},
   "source": [
    "# Introduction: \n",
    "\n",
    "The following webpage takes a deep dive into the Aid Worker Security Database, which describes violence against aid workers across the globe. The code describes violence against aid workers from different organizations based on attack type and context, country, organization, whether workers were national or international, and, most importantly for this page, gender. \n",
    "\n",
    "The following analysis looks to guide you through the distribution of attacks across the globe, and demonstrate that female aid workers are in significantly more danger than their male counterparts. \n",
    "\n",
    "Lets first take a look at the different variables included in the dataset. The dashboards below show the geographic distribution of these variables. "
   ]
  },
  {
   "cell_type": "code",
   "execution_count": 195,
   "metadata": {},
   "outputs": [],
   "source": [
    "import geopandas as gpd\n",
    "import pandas as pd\n",
    "import matplotlib.pyplot as plt\n",
    "\n",
    "# Step 1: Load your data\n",
    "df = pd.read_csv(\"data/security_incidents.csv\")\n",
    "\n",
    "# Group by country for different categories (Nationals, Internationals, and Incidents)\n",
    "nationals = df.groupby('Country')['Total nationals'].sum().reset_index(name=\"total_nationals\")\n",
    "internationals = df.groupby('Country')['Total internationals'].sum().reset_index(name=\"total_internationals\")\n",
    "incidents_by_country = df.groupby('Country').size().reset_index(name='incident_count')\n",
    "\n",
    "# Load GeoJSON data for world countries using GeoPandas\n",
    "geo_data = gpd.read_file('ne_110m_admin_0_countries/ne_110m_admin_0_countries.shp')\n",
    "\n",
    "# Merge the datasets with the GeoDataFrame\n",
    "geo_data = geo_data.merge(nationals, left_on=\"ADMIN\", right_on=\"Country\", how=\"left\")\n",
    "geo_data = geo_data.merge(internationals, left_on=\"ADMIN\", right_on=\"Country\", how=\"left\")\n",
    "geo_data = geo_data.merge(incidents_by_country, left_on=\"ADMIN\", right_on=\"Country\", how=\"left\")\n",
    "\n"
   ]
  },
  {
   "cell_type": "markdown",
   "metadata": {},
   "source": [
    "## National vs. International"
   ]
  },
  {
   "cell_type": "code",
   "execution_count": 196,
   "metadata": {},
   "outputs": [
    {
     "data": {
      "text/html": [
       "\n",
       "        <iframe\n",
       "            width=\"800\"\n",
       "            height=\"600\"\n",
       "            src=\"choropleth_map_with_dropdown.html\"\n",
       "            frameborder=\"0\"\n",
       "            allowfullscreen\n",
       "            \n",
       "        ></iframe>\n",
       "        "
      ],
      "text/plain": [
       "<IPython.lib.display.IFrame at 0x36f78f010>"
      ]
     },
     "execution_count": 196,
     "metadata": {},
     "output_type": "execute_result"
    }
   ],
   "source": [
    "\n",
    "# Create a choropleth map for Nationals, Internationals, and Incident\n",
    "fig = go.Figure()\n",
    "\n",
    "# Add choropleth for Nationals\n",
    "fig.add_trace(go.Choropleth(\n",
    "    z=geo_data['total_nationals'],\n",
    "    hoverinfo='location+z',\n",
    "    locations=geo_data['ADMIN'],\n",
    "    locationmode='country names',\n",
    "    colorscale='RdYlGn_r',\n",
    "    colorbar_title=\"Nationals Affected\",\n",
    "    showscale=True,\n",
    "    name=\"Nationals\"\n",
    "))\n",
    "\n",
    "# Add choropleth for Internationals\n",
    "fig.add_trace(go.Choropleth(\n",
    "    z=geo_data['total_internationals'],\n",
    "    hoverinfo='location+z',\n",
    "    locations=geo_data['ADMIN'],\n",
    "    locationmode='country names',\n",
    "    colorscale='YlOrRd',\n",
    "    colorbar_title=\"Internationals Affected\",\n",
    "    showscale=True,\n",
    "    name=\"Internationals\"\n",
    "))\n",
    "\n",
    "# Add choropleth for Incidents\n",
    "fig.add_trace(go.Choropleth(\n",
    "    z=geo_data['incident_count'],\n",
    "    hoverinfo='location+z',\n",
    "    locations=geo_data['ADMIN'],\n",
    "    locationmode='country names',\n",
    "    colorscale='BuGn',\n",
    "    colorbar_title=\"Incidents Count\",\n",
    "    showscale=True,\n",
    "    name=\"Incidents\"\n",
    "))\n",
    "\n",
    "# Update layout to add dropdown and other configurations\n",
    "fig.update_layout(\n",
    "    geo=dict(\n",
    "        showcoastlines=True,\n",
    "        coastlinecolor=\"Black\",\n",
    "        projection_type=\"natural earth\",\n",
    "    ),\n",
    "    updatemenus=[\n",
    "        {\n",
    "            'buttons': [\n",
    "                {\n",
    "                    'args': [{'visible': [True, False, False]}, {'title': 'Nationals Affected'}],\n",
    "                    'label': 'Nationals',\n",
    "                    'method': 'update'\n",
    "                },\n",
    "                {\n",
    "                    'args': [{'visible': [False, True, False]}, {'title': 'Internationals Affected'}],\n",
    "                    'label': 'Internationals',\n",
    "                    'method': 'update'\n",
    "                },\n",
    "                {\n",
    "                    'args': [{'visible': [False, False, True]}, {'title': 'Incidents Count'}],\n",
    "                    'label': 'Incidents',\n",
    "                    'method': 'update'\n",
    "                }\n",
    "            ],\n",
    "            'direction': 'down',\n",
    "            'showactive': True,\n",
    "            'x': 0,\n",
    "            'xanchor': 'left',\n",
    "            'y': 1,\n",
    "            'yanchor': 'top'\n",
    "        }\n",
    "    ],\n",
    "    title=\"Incidents by Country\"\n",
    ")\n",
    "\n",
    "fig.write_html(\"choropleth_map_with_dropdown.html\")\n",
    "\n",
    "from IPython.display import IFrame\n",
    "\n",
    "# Display the saved file directly in Jupyter Notebook\n",
    "IFrame(\"choropleth_map_with_dropdown.html\", width=800, height=600)\n"
   ]
  },
  {
   "cell_type": "markdown",
   "metadata": {},
   "source": [
    "We can see from above that mainly nationals are targetted, and a majority of incidents take place across Northern Africa and the Middle East. This is most likely due to the distribution of nationals vs. international aid workers stationed across the countries, with national aid workers being in much higher numbers. "
   ]
  },
  {
   "cell_type": "code",
   "execution_count": 197,
   "metadata": {},
   "outputs": [
    {
     "data": {
      "text/html": [
       "\n",
       "        <iframe\n",
       "            width=\"800\"\n",
       "            height=\"600\"\n",
       "            src=\"choropleth_map_with_dropdown2.html\"\n",
       "            frameborder=\"0\"\n",
       "            allowfullscreen\n",
       "            \n",
       "        ></iframe>\n",
       "        "
      ],
      "text/plain": [
       "<IPython.lib.display.IFrame at 0x36e41f0d0>"
      ]
     },
     "execution_count": 197,
     "metadata": {},
     "output_type": "execute_result"
    }
   ],
   "source": [
    "unique_values = df['Means of attack'].unique()\n",
    "means_of_attack = df.groupby(['Country', 'Means of attack']).size().unstack(fill_value=0)\n",
    "\n",
    "geo_data = gpd.read_file('ne_110m_admin_0_countries/ne_110m_admin_0_countries.shp')\n",
    "\n",
    "for incident in unique_values:\n",
    "    # Ensure the column name is consistent (spaces replaced with underscores and lowercased)\n",
    "    incident_column = f'{incident.replace(\" \", \"_\").lower()}_count'\n",
    "    \n",
    "    # Check if the incident type is present in the incident_counts DataFrame\n",
    "    if incident in means_of_attack.columns:\n",
    "        # Add the incident counts from the incident_counts DataFrame\n",
    "        geo_data = geo_data.merge(\n",
    "            means_of_attack[incident], left_on=\"ADMIN\", right_index=True, how=\"left\"\n",
    "        ).rename(columns={incident: incident_column})\n",
    "    else:\n",
    "        # If the incident type is not in the incident_counts DataFrame, fill with 0\n",
    "        geo_data[incident_column] = 0\n",
    "# Create a choropleth map for Nationals, Internationals, and Incident\n",
    "fig = go.Figure()\n",
    "\n",
    "# Add choropleth for each incident type\n",
    "for incident in unique_values:\n",
    "    # Update the z values and title dynamically for each incident\n",
    "    fig.add_trace(go.Choropleth(\n",
    "        z=geo_data[f'{incident.replace(\" \", \"_\").lower()}_count'],  # Assuming you have these fields in your geo_data\n",
    "        hoverinfo='location+z',\n",
    "        locations=geo_data['ADMIN'],  # Country names should be in the 'ADMIN' field\n",
    "        locationmode='country names',\n",
    "        colorscale='Viridis',  # You can change the color scale for each incident type if you like\n",
    "        colorbar_title=f\"{incident} Count\",\n",
    "        showscale=True,\n",
    "        name=incident\n",
    "    ))\n",
    "\n",
    "# Update layout to add dropdown and other configurations\n",
    "fig.update_layout(\n",
    "    geo=dict(\n",
    "        showcoastlines=True,\n",
    "        coastlinecolor=\"Black\",\n",
    "        projection_type=\"natural earth\",\n",
    "    ),\n",
    "    updatemenus=[\n",
    "        {\n",
    "            'buttons': [\n",
    "                # Create a button for each incident type to switch between\n",
    "                *[\n",
    "                    {\n",
    "                        'args': [{'visible': [i == idx for i in range(len(unique_values))]}, {'title': f'{incident} Count'}],\n",
    "                        'label': incident,\n",
    "                        'method': 'update'\n",
    "                    }\n",
    "                    for idx, incident in enumerate(unique_values)\n",
    "                ]\n",
    "            ],\n",
    "            'direction': 'down',\n",
    "            'showactive': True,\n",
    "            'x': 0,\n",
    "            'xanchor': 'left',\n",
    "            'y': 1,\n",
    "            'yanchor': 'top'\n",
    "        }\n",
    "    ],\n",
    "    title=\"Incidents by Country\"\n",
    ")\n",
    "\n",
    "fig.write_html(\"choropleth_map_with_dropdown2.html\")\n",
    "\n",
    "from IPython.display import IFrame\n",
    "\n",
    "# Display the saved file directly in Jupyter Notebook\n",
    "IFrame(\"choropleth_map_with_dropdown2.html\", width=800, height=600)\n"
   ]
  },
  {
   "cell_type": "markdown",
   "metadata": {},
   "source": [
    "We look at the means of attack above across all countries that have incidents. Aid organizations often struggle with reporting (as this is not their first priority), so many of the attacks are of unknown means. "
   ]
  }
 ],
 "metadata": {
  "kernelspec": {
   "display_name": "Python 3",
   "language": "python",
   "name": "python3"
  },
  "language_info": {
   "codemirror_mode": {
    "name": "ipython",
    "version": 3
   },
   "file_extension": ".py",
   "mimetype": "text/x-python",
   "name": "python",
   "nbconvert_exporter": "python",
   "pygments_lexer": "ipython3",
   "version": "3.11.6"
  }
 },
 "nbformat": 4,
 "nbformat_minor": 2
}
