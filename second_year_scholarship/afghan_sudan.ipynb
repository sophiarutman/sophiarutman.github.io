{
 "cells": [
  {
   "cell_type": "code",
   "execution_count": 4,
   "metadata": {},
   "outputs": [
    {
     "data": {
      "text/plain": [
       "(448, 41)"
      ]
     },
     "execution_count": 4,
     "metadata": {},
     "output_type": "execute_result"
    }
   ],
   "source": [
    "\n",
    "import geopandas as gpd\n",
    "import matplotlib.pyplot as plt\n",
    "import pandas as pd\n",
    "import numpy as np\n",
    "import plotly.graph_objects as go\n",
    "import altair as alt\n",
    "import folium\n",
    "from sklearn.preprocessing import StandardScaler\n",
    "import matplotlib.pyplot as plt\n",
    "import plotly.express as px\n",
    "import seaborn as sns\n",
    "\n",
    "\n",
    "df = pd.read_csv(\"data/security_incidents.csv\")\n",
    "afghan = df[df[\"Country\"] == \"Afghanistan\"].dropna(subset = \"District\")\n",
    "sudan = df[df[\"Country\"] == \"South Sudan\"]\n",
    "afghan.shape"
   ]
  },
  {
   "cell_type": "code",
   "execution_count": 35,
   "metadata": {},
   "outputs": [
    {
     "data": {
      "text/html": [
       "\n",
       "        <iframe\n",
       "            width=\"800\"\n",
       "            height=\"600\"\n",
       "            src=\"afghanistan_incidents_map_with_zeroes.html\"\n",
       "            frameborder=\"0\"\n",
       "            allowfullscreen\n",
       "            \n",
       "        ></iframe>\n",
       "        "
      ],
      "text/plain": [
       "<IPython.lib.display.IFrame at 0x3086766d0>"
      ]
     },
     "execution_count": 35,
     "metadata": {},
     "output_type": "execute_result"
    }
   ],
   "source": [
    "import folium\n",
    "import geopandas as gpd\n",
    "import pandas as pd\n",
    "import json\n",
    "from folium import Choropleth\n",
    "\n",
    "# Load the Afghanistan districts GeoJSON file\n",
    "afghanistan_geojson_path = \"afghanist-provinces-districts--cities-demo.json\"  # Replace with your actual file path\n",
    "gdf_afghanistan = gpd.read_file(afghanistan_geojson_path)\n",
    "\n",
    "incident_count_per_district = afghan['District'].value_counts().reset_index()\n",
    "\n",
    "import folium\n",
    "import geopandas as gpd\n",
    "\n",
    "# Assuming gdf_afghanistan is your GeoDataFrame with the districts' geometries\n",
    "# And incident_count_per_district is the Series with the count of incidents per district\n",
    "\n",
    "# Merge the incident counts with the GeoDataFrame\n",
    "gdf_afghanistan = gdf_afghanistan.merge(incident_count_per_district, how='left', left_on=\"name\", right_on=\"District\")\n",
    "\n",
    "# Replace NaN values with 0 for districts with no incidents\n",
    "gdf_afghanistan['count'] = gdf_afghanistan['count'].fillna(0)\n",
    "# Create a folium map centered on Afghanistan\n",
    "m = folium.Map(location=[33.0, 65.0], zoom_start=6)\n",
    "\n",
    "# Add the choropleth layer to visualize incidents per district\n",
    "import branca\n",
    "color_scale = branca.colormap.linear.YlGnBu_09.scale(0, gdf_afghanistan['count'].max())\n",
    "\n",
    "# Add a choropleth layer to visualize incidents per district\n",
    "folium.Choropleth(\n",
    "    geo_data=gdf_afghanistan.to_json(),  # Convert the GeoDataFrame to GeoJSON format\n",
    "    name=\"Incidents per District\",\n",
    "    data=gdf_afghanistan,\n",
    "    columns=[\"name\", \"count\"],  # Columns to map: district name and incident count\n",
    "    key_on=\"feature.properties.name\",  # The GeoJSON property to match with district names\n",
    "    fill_color=\"YlGnBu\",  # Color palette\n",
    "    fill_opacity=0.7,\n",
    "    line_opacity=0.2,\n",
    "    legend_name=\"Number of Incidents\",\n",
    "    # Use the same color scale as the choropleth for fill colors\n",
    "    highlight=True\n",
    ").add_to(m)\n",
    "\n",
    "# Add district names as tooltips with incident count (hover effect)\n",
    "folium.GeoJson(\n",
    "    gdf_afghanistan,\n",
    "    name='Districts with Incidents',\n",
    "    tooltip=folium.GeoJsonTooltip(\n",
    "        fields=[\"name\", \"count\"],  # Show District and incident count\n",
    "        aliases=[\"District: \", \"Incidents: \"],  # Add custom labels to the tooltip\n",
    "        localize=True,  # This will format numbers in a readable way (e.g., 1000 -> 1,000)\n",
    "    ),\n",
    "    style_function=lambda feature: {\n",
    "        'fillColor': color_scale(feature['properties']['count']),  # Apply the same color scale for fill color\n",
    "        'color': 'black',  # Border color\n",
    "        'weight': 0.7,\n",
    "        'fillOpacity': 1\n",
    "    }\n",
    ").add_to(m)\n",
    "# Save the map to an HTML file\n",
    "m.save(\"afghanistan_incidents_map_with_zeroes.html\")\n",
    "\n",
    "# Display the saved file (if in a Jupyter notebook)\n",
    "from IPython.display import IFrame\n",
    "IFrame(\"afghanistan_incidents_map_with_zeroes.html\", width=800, height=600)\n"
   ]
  }
 ],
 "metadata": {
  "kernelspec": {
   "display_name": "Python 3",
   "language": "python",
   "name": "python3"
  },
  "language_info": {
   "codemirror_mode": {
    "name": "ipython",
    "version": 3
   },
   "file_extension": ".py",
   "mimetype": "text/x-python",
   "name": "python",
   "nbconvert_exporter": "python",
   "pygments_lexer": "ipython3",
   "version": "3.11.6"
  }
 },
 "nbformat": 4,
 "nbformat_minor": 2
}
