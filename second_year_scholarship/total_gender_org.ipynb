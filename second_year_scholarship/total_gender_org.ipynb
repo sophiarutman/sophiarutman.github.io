{
 "cells": [
  {
   "cell_type": "code",
   "execution_count": 58,
   "metadata": {},
   "outputs": [],
   "source": [
    "\n",
    "import geopandas as gpd\n",
    "import matplotlib.pyplot as plt\n",
    "import pandas as pd\n",
    "import numpy as np\n",
    "import plotly.graph_objects as go\n",
    "import altair as alt\n",
    "import folium\n",
    "df = pd.read_csv(\"data/security_incidents.csv\")\n"
   ]
  },
  {
   "cell_type": "code",
   "execution_count": 59,
   "metadata": {},
   "outputs": [
    {
     "data": {
      "text/html": [
       "\n",
       "        <iframe\n",
       "            width=\"800\"\n",
       "            height=\"600\"\n",
       "            src=\"bar.html\"\n",
       "            frameborder=\"0\"\n",
       "            allowfullscreen\n",
       "            \n",
       "        ></iframe>\n",
       "        "
      ],
      "text/plain": [
       "<IPython.lib.display.IFrame at 0x153945e50>"
      ]
     },
     "execution_count": 59,
     "metadata": {},
     "output_type": "execute_result"
    }
   ],
   "source": [
    "sum_columns = [\"UN\", \"INGO\", \"ICRC\", \"NRCS and IFRC\", \"NNGO\", \"Other\"]\n",
    "total_affected_by_org = df[sum_columns].sum()  # Summing the organization columns for 'Total affected'\n",
    "fig = go.Figure()\n",
    "\n",
    "# Add choropleth for Nationals\n",
    "fig.add_trace(go.Bar(\n",
    "    x = total_affected_by_org.index,\n",
    "    y = total_affected_by_org,\n",
    "    name=\"Affected\", \n",
    "    visible = True\n",
    "))\n",
    "\n",
    "fig.write_html(\"bar.html\")\n",
    "\n",
    "from IPython.display import IFrame\n",
    "\n",
    "# Display the saved file directly in Jupyter Notebook\n",
    "IFrame(\"bar.html\", width=800, height=600)\n"
   ]
  },
  {
   "cell_type": "code",
   "execution_count": 60,
   "metadata": {},
   "outputs": [
    {
     "name": "stdout",
     "output_type": "stream",
     "text": [
      "          Group 1        Group 2  t-statistic        p-value\n",
      "0              UN           INGO    -9.838241   1.012923e-22\n",
      "1              UN           ICRC    10.998725   5.930294e-28\n",
      "2              UN  NRCS and IFRC     8.474121   2.757711e-17\n",
      "3              UN           NNGO    -1.778800   7.530756e-02\n",
      "4              UN          Other    12.000280   6.448903e-33\n",
      "5            INGO           ICRC    29.302664  4.722377e-180\n",
      "6            INGO  NRCS and IFRC    24.818151  2.052936e-131\n",
      "7            INGO           NNGO    10.803988   4.898793e-27\n",
      "8            INGO          Other    31.055374  7.172148e-201\n",
      "9            ICRC  NRCS and IFRC    -5.159420   2.532117e-07\n",
      "10           ICRC           NNGO   -22.084266  3.464435e-105\n",
      "11           ICRC          Other     3.719342   2.010041e-04\n",
      "12  NRCS and IFRC           NNGO   -16.363863   2.677308e-59\n",
      "13  NRCS and IFRC          Other     7.812154   6.278522e-15\n",
      "14           NNGO          Other    24.496670  3.423553e-128\n"
     ]
    }
   ],
   "source": [
    "import pandas as pd\n",
    "import scipy.stats as stats\n",
    "\n",
    "# Assuming df and sum_columns are defined as in the question:\n",
    "sum_columns = [\"UN\", \"INGO\", \"ICRC\", \"NRCS and IFRC\", \"NNGO\", \"Other\"]\n",
    "\n",
    "# Perform t-tests for each unique pair of organizations in sum_columns\n",
    "output_matrix = []\n",
    "\n",
    "# Loop through the combinations of columns to compare them\n",
    "for i in range(len(sum_columns)):\n",
    "    for j in range(i + 1, len(sum_columns)):\n",
    "        # Perform t-test for the pair of organizations (two-sample t-test)\n",
    "        t_stat, p_val = stats.ttest_ind(df[sum_columns[i]].dropna(), df[sum_columns[j]].dropna())\n",
    "        \n",
    "        # Store the results in a matrix (list of dictionaries)\n",
    "        output_matrix.append({\n",
    "            'Group 1': sum_columns[i],\n",
    "            'Group 2': sum_columns[j],\n",
    "            't-statistic': t_stat,\n",
    "            'p-value': p_val\n",
    "        })\n",
    "\n",
    "# Convert the output matrix into a DataFrame for better presentation\n",
    "output_df = pd.DataFrame(output_matrix)\n",
    "\n",
    "# Display the result DataFrame\n",
    "print(output_df)\n"
   ]
  },
  {
   "cell_type": "code",
   "execution_count": 61,
   "metadata": {},
   "outputs": [
    {
     "data": {
      "text/html": [
       "\n",
       "        <iframe\n",
       "            width=\"800\"\n",
       "            height=\"600\"\n",
       "            src=\"cumulative_total_affected.html\"\n",
       "            frameborder=\"0\"\n",
       "            allowfullscreen\n",
       "            \n",
       "        ></iframe>\n",
       "        "
      ],
      "text/plain": [
       "<IPython.lib.display.IFrame at 0x168d5ff10>"
      ]
     },
     "execution_count": 61,
     "metadata": {},
     "output_type": "execute_result"
    }
   ],
   "source": [
    "import plotly.graph_objects as go\n",
    "import pandas as pd\n",
    "\n",
    "# Assuming 'df' is your DataFrame with the necessary columns\n",
    "\n",
    "# Prepare the cumulative sum DataFrame\n",
    "df_cumulative = df[[\"UN\", \"INGO\", \"ICRC\", \"NRCS and IFRC\", \"NNGO\", \"Other\", \"Total affected\", \"Total killed\", \"Total kidnapped\", \"Total wounded\"]].copy()\n",
    "\n",
    "# Calculate cumulative sum for each column\n",
    "df_cumulative['Cumulative UN'] = df_cumulative['UN'].cumsum()\n",
    "df_cumulative['Cumulative INGO'] = df_cumulative['INGO'].cumsum()\n",
    "df_cumulative['Cumulative ICRC'] = df_cumulative['ICRC'].cumsum()\n",
    "df_cumulative['Cumulative NRCS and IFRC'] = df_cumulative['NRCS and IFRC'].cumsum()\n",
    "df_cumulative['Cumulative NNGO'] = df_cumulative['NNGO'].cumsum()\n",
    "df_cumulative['Cumulative Other'] = df_cumulative['Other'].cumsum()\n",
    "df_cumulative['Cumulative Total affected'] = df_cumulative['Total affected'].cumsum()\n",
    "df_cumulative['Cumulative Total killed'] = df_cumulative['Total killed'].cumsum()\n",
    "df_cumulative['Cumulative Total kidnapped'] = df_cumulative['Total kidnapped'].cumsum()\n",
    "df_cumulative['Cumulative Total wounded'] = df_cumulative['Total wounded'].cumsum()\n",
    "\n",
    "\n",
    "\n",
    "# Create first figure (Total Affected)\n",
    "fig_affected = go.Figure()\n",
    "\n",
    "# Function to add traces for cumulative sum of Total affected\n",
    "def add_trace_and_slope_affected(column, color, label):\n",
    "    slope = (df_cumulative[column].iloc[-1] - df_cumulative[column].iloc[0]) / (len(df_cumulative) - 1)\n",
    "    fig_affected.add_trace(go.Scatter(\n",
    "        x=df_cumulative.index,\n",
    "        y=df_cumulative[column],\n",
    "        mode='lines',\n",
    "        name=label,\n",
    "        line=dict(color=color),\n",
    "        hovertemplate='<b>%{text}</b><br>' +\n",
    "                      'Value: %{y}<br>' +\n",
    "                      'Overall Slope: %{customdata:.2f}',\n",
    "        text=[label] * len(df_cumulative),\n",
    "        customdata=[slope] * len(df_cumulative)\n",
    "    ))\n",
    "\n",
    "# Add traces for 'Total affected' plot\n",
    "add_trace_and_slope_affected('Cumulative UN', 'blue', 'Cumulative UN')\n",
    "add_trace_and_slope_affected('Cumulative INGO', 'orange', 'Cumulative INGO')\n",
    "add_trace_and_slope_affected('Cumulative ICRC', 'red', 'Cumulative ICRC')\n",
    "add_trace_and_slope_affected('Cumulative NRCS and IFRC', 'green', 'Cumulative NRCS and IFRC')\n",
    "add_trace_and_slope_affected('Cumulative NNGO', 'pink', 'Cumulative NNGO')\n",
    "add_trace_and_slope_affected('Cumulative Other', 'purple', 'Cumulative Other')\n",
    "add_trace_and_slope_affected('Cumulative Total affected', 'black', 'Cumulative Total affected')\n",
    "add_trace_and_slope_affected('Cumulative Total killed', 'grey', 'Cumulative Total killed')\n",
    "add_trace_and_slope_affected('Cumulative Total wounded', 'lightgrey', 'Cumulative Total wounded')\n",
    "add_trace_and_slope_affected('Cumulative Total kidnapped', 'darkgrey', 'Cumulative Total kidnapped')\n",
    "\n",
    "x_lines = [1200, 2000, 3800]  # These are the x-axis points where you want vertical lines\n",
    "\n",
    "# Add vertical lines at the specified x-axis points\n",
    "for x in x_lines:\n",
    "    fig_affected.add_shape(\n",
    "        go.layout.Shape(\n",
    "            type=\"line\",  # Shape type is a line\n",
    "            x0=x, x1=x,   # Start and end at the same x-value for a vertical line\n",
    "            y0=0, y1=df_cumulative['Cumulative Total affected'].max(),  # Start from the bottom to the top\n",
    "            line=dict(color=\"gray\", dash=\"dash\", width=.5)  # Style the line (color, dashed, width)\n",
    "        )\n",
    "    )\n",
    "\n",
    "fig_affected.update_layout(\n",
    "    title='Total Affected by Organization Over Time',\n",
    "    xaxis_title='Cumulative Incidents',\n",
    "    yaxis_title='Cumulative Sum',\n",
    "    hovermode='closest',\n",
    ")\n",
    "\n",
    "# Show both figures\n",
    "fig_affected.write_html(\"cumulative_total_affected.html\")\n",
    "\n",
    "from IPython.display import IFrame\n",
    "\n",
    "# Display both saved files directly in Jupyter Notebook\n",
    "IFrame(\"cumulative_total_affected.html\", width=800, height=600)\n"
   ]
  },
  {
   "cell_type": "code",
   "execution_count": 62,
   "metadata": {},
   "outputs": [
    {
     "data": {
      "text/html": [
       "\n",
       "        <iframe\n",
       "            width=\"800\"\n",
       "            height=\"600\"\n",
       "            src=\"cumulative_total_affected_gender.html\"\n",
       "            frameborder=\"0\"\n",
       "            allowfullscreen\n",
       "            \n",
       "        ></iframe>\n",
       "        "
      ],
      "text/plain": [
       "<IPython.lib.display.IFrame at 0x168760a10>"
      ]
     },
     "execution_count": 62,
     "metadata": {},
     "output_type": "execute_result"
    }
   ],
   "source": [
    "import plotly.graph_objects as go\n",
    "import pandas as pd\n",
    "\n",
    "# Assuming 'df' is your DataFrame with the necessary columns\n",
    "\n",
    "# Prepare the cumulative sum DataFrame\n",
    "df_cumulative = df[[\"Gender Male\", \"Gender Female\", \"Gender Unknown\", \"Total affected\", \"Total killed\", \"Total kidnapped\", \"Total wounded\"]].copy()\n",
    "\n",
    "# Calculate cumulative sum for each column\n",
    "df_cumulative['Cumulative Female'] = df_cumulative['Gender Female'].cumsum()\n",
    "df_cumulative['Cumulative Male'] = df_cumulative['Gender Male'].cumsum()\n",
    "df_cumulative['Cumulative Unknown'] = df_cumulative['Gender Unknown'].cumsum()\n",
    "df_cumulative['Cumulative Total affected'] = df_cumulative['Total affected'].cumsum()\n",
    "df_cumulative['Cumulative Total killed'] = df_cumulative['Total killed'].cumsum()\n",
    "df_cumulative['Cumulative Total kidnapped'] = df_cumulative['Total kidnapped'].cumsum()\n",
    "df_cumulative['Cumulative Total wounded'] = df_cumulative['Total wounded'].cumsum()\n",
    "\n",
    "\n",
    "\n",
    "# Create first figure (Total Affected)\n",
    "fig_affected = go.Figure()\n",
    "\n",
    "# Function to add traces for cumulative sum of Total affected\n",
    "def add_trace_and_slope_affected(column, color, label):\n",
    "    slope = (df_cumulative[column].iloc[-1] - df_cumulative[column].iloc[0]) / (len(df_cumulative) - 1)\n",
    "    fig_affected.add_trace(go.Scatter(\n",
    "        x=df_cumulative.index,\n",
    "        y=df_cumulative[column],\n",
    "        mode='lines',\n",
    "        name=label,\n",
    "        line=dict(color=color),\n",
    "        hovertemplate='<b>%{text}</b><br>' +\n",
    "                      'Value: %{y}<br>' +\n",
    "                      'Overall Slope: %{customdata:.2f}',\n",
    "        text=[label] * len(df_cumulative),\n",
    "        customdata=[slope] * len(df_cumulative)\n",
    "    ))\n",
    "\n",
    "# Add traces for 'Total affected' plot\n",
    "add_trace_and_slope_affected('Cumulative Female', 'blue', 'Cumulative Female')\n",
    "add_trace_and_slope_affected('Cumulative Male', 'orange', 'Cumulative Male')\n",
    "add_trace_and_slope_affected('Cumulative Unknown', 'red', 'Cumulative Unknown')\n",
    "add_trace_and_slope_affected('Cumulative Total affected', 'black', 'Cumulative Total affected')\n",
    "add_trace_and_slope_affected('Cumulative Total killed', 'grey', 'Cumulative Total killed')\n",
    "add_trace_and_slope_affected('Cumulative Total wounded', 'lightgrey', 'Cumulative Total wounded')\n",
    "add_trace_and_slope_affected('Cumulative Total kidnapped', 'darkgrey', 'Cumulative Total kidnapped')\n",
    "\n",
    "x_lines = [1200, 2000, 3800]  # These are the x-axis points where you want vertical lines\n",
    "\n",
    "# Add vertical lines at the specified x-axis points\n",
    "for x in x_lines:\n",
    "    fig_affected.add_shape(\n",
    "        go.layout.Shape(\n",
    "            type=\"line\",  # Shape type is a line\n",
    "            x0=x, x1=x,   # Start and end at the same x-value for a vertical line\n",
    "            y0=0, y1=df_cumulative['Cumulative Total affected'].max(),  # Start from the bottom to the top\n",
    "            line=dict(color=\"gray\", dash=\"dash\", width=.5)  # Style the line (color, dashed, width)\n",
    "        )\n",
    "    )\n",
    "\n",
    "fig_affected.update_layout(\n",
    "    title='Total Affected by Organization Over Time',\n",
    "    xaxis_title='Cumulative Incidents',\n",
    "    yaxis_title='Cumulative Sum',\n",
    "    hovermode='closest',\n",
    ")\n",
    "\n",
    "# Show both figures\n",
    "fig_affected.write_html(\"cumulative_total_affected_gender.html\")\n",
    "\n",
    "from IPython.display import IFrame\n",
    "\n",
    "# Display both saved files directly in Jupyter Notebook\n",
    "IFrame(\"cumulative_total_affected_gender.html\", width=800, height=600)\n"
   ]
  },
  {
   "cell_type": "code",
   "execution_count": 69,
   "metadata": {},
   "outputs": [
    {
     "data": {
      "text/html": [
       "\n",
       "        <iframe\n",
       "            width=\"800\"\n",
       "            height=\"600\"\n",
       "            src=\"unknown_gender.html\"\n",
       "            frameborder=\"0\"\n",
       "            allowfullscreen\n",
       "            \n",
       "        ></iframe>\n",
       "        "
      ],
      "text/plain": [
       "<IPython.lib.display.IFrame at 0x168a76e10>"
      ]
     },
     "execution_count": 69,
     "metadata": {},
     "output_type": "execute_result"
    }
   ],
   "source": [
    "df_unknown = df[[\"UN\", \"INGO\", \"ICRC\", \"NRCS and IFRC\", \"NNGO\", \"Other\", \"Gender Unknown\"]].dropna()\n",
    "\n",
    "# Create a Plotly figure\n",
    "fig = go.Figure()\n",
    "\n",
    "# Calculate the cumulative sum for the columns\n",
    "for column in df_unknown.columns:\n",
    "    df_unknown[f'Cumulative {column}'] = df_unknown[column].cumsum()\n",
    "\n",
    "# Add traces (lines) for each organization and \"Gender Unknown\"\n",
    "def add_trace_and_slope_affected(column, color, label):\n",
    "    fig.add_trace(go.Scatter(\n",
    "        x=df_unknown.index,  # Use the index for the x-axis\n",
    "        y=df_unknown[f'Cumulative {column}'],  # Use cumulative values\n",
    "        mode='lines',\n",
    "        name=label,\n",
    "        line=dict(color=color),\n",
    "        text=[label] * len(df_unknown),\n",
    "    ))\n",
    "\n",
    "# Add lines for each organization\n",
    "add_trace_and_slope_affected('UN', 'blue', 'Cumulative UN')\n",
    "add_trace_and_slope_affected('INGO', 'orange', 'Cumulative INGO')\n",
    "add_trace_and_slope_affected('ICRC', 'red', 'Cumulative ICRC')\n",
    "add_trace_and_slope_affected('NRCS and IFRC', 'green', 'Cumulative NRCS and IFRC')\n",
    "add_trace_and_slope_affected('NNGO', 'pink', 'Cumulative NNGO')\n",
    "add_trace_and_slope_affected('Other', 'purple', 'Cumulative Other')\n",
    "add_trace_and_slope_affected('Gender Unknown', 'black', 'Cumulative Gender Unknown')\n",
    "\n",
    "# Update layout for titles and labels\n",
    "fig.update_layout(\n",
    "    title='Cumulative Gender Unknown vs Organizations',\n",
    "    xaxis_title='Index (Time or Observations)',\n",
    "    yaxis_title='Cumulative Sum',\n",
    "    hovermode='closest',\n",
    ")\n",
    "\n",
    "# Save the figure as an interactive HTML\n",
    "fig.write_html(\"unknown_gender.html\")\n",
    "\n",
    "# Display the saved file directly in Jupyter Notebook\n",
    "from IPython.display import IFrame\n",
    "IFrame(\"unknown_gender.html\", width=800, height=600)"
   ]
  },
  {
   "cell_type": "code",
   "execution_count": 68,
   "metadata": {},
   "outputs": [
    {
     "data": {
      "text/plain": [
       "45.4800879550452"
      ]
     },
     "execution_count": 68,
     "metadata": {},
     "output_type": "execute_result"
    }
   ],
   "source": [
    "# Assuming 'df' is the DataFrame with your data\n",
    "\n",
    "# Step 1: Calculate the sum of each organization\n",
    "sum_orgs = df[[\"UN\", \"INGO\", \"ICRC\", \"NRCS and IFRC\", \"NNGO\", \"Other\"]].sum()\n",
    "# Step 2: Calculate the sum of the \"Gender Unknown\" category\n",
    "sum_gender_unknown = df[\"Gender Unknown\"].sum()\n",
    "\n",
    "# Step 3: Calculate the percentage of \"Gender Unknown\" for each organization\n",
    "percentage_unknown = (sum_gender_unknown / sum_orgs.sum()) * 100\n",
    "\n",
    "# Step 4: Output the results\n",
    "percentage_unknown\n"
   ]
  }
 ],
 "metadata": {
  "kernelspec": {
   "display_name": "Python 3",
   "language": "python",
   "name": "python3"
  },
  "language_info": {
   "codemirror_mode": {
    "name": "ipython",
    "version": 3
   },
   "file_extension": ".py",
   "mimetype": "text/x-python",
   "name": "python",
   "nbconvert_exporter": "python",
   "pygments_lexer": "ipython3",
   "version": "3.11.6"
  }
 },
 "nbformat": 4,
 "nbformat_minor": 2
}
