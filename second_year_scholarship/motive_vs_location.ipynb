{
 "cells": [
  {
   "cell_type": "code",
   "execution_count": 4,
   "metadata": {},
   "outputs": [],
   "source": [
    "\n",
    "import geopandas as gpd\n",
    "import matplotlib.pyplot as plt\n",
    "import pandas as pd\n",
    "import numpy as np\n",
    "import plotly.graph_objects as go\n",
    "import altair as alt\n",
    "import folium\n",
    "from sklearn.preprocessing import StandardScaler\n",
    "import matplotlib.pyplot as plt\n",
    "import plotly.express as px\n",
    "\n",
    "df = pd.read_csv(\"data/security_incidents.csv\")"
   ]
  },
  {
   "cell_type": "code",
   "execution_count": 6,
   "metadata": {},
   "outputs": [
    {
     "data": {
      "text/html": [
       "\n",
       "        <iframe\n",
       "            width=\"1000\"\n",
       "            height=\"1000\"\n",
       "            src=\"corr_matrix3.html\"\n",
       "            frameborder=\"0\"\n",
       "            allowfullscreen\n",
       "            \n",
       "        ></iframe>\n",
       "        "
      ],
      "text/plain": [
       "<IPython.lib.display.IFrame at 0x165523cd0>"
      ]
     },
     "execution_count": 6,
     "metadata": {},
     "output_type": "execute_result"
    }
   ],
   "source": [
    "categorical_columns = [ \n",
    "    \"Motive\",  \"Location\", \"Attack context\"]\n",
    "df_encoded = pd.get_dummies(df[categorical_columns], drop_first=True)\n",
    "df_encoded.replace(\"Unknown\", 0, inplace=True)\n",
    "scaler = StandardScaler()\n",
    "df_encoded = pd.DataFrame(scaler.fit_transform(df_encoded), columns = df_encoded.columns)\n",
    "correlation_matrix3 = df_encoded.corr()\n",
    "\n",
    "fig2 = px.imshow(correlation_matrix3,\n",
    "                labels=dict(x=\"Features\", y=\"Features\", color=\"Correlation\"),\n",
    "                color_continuous_scale='RdBu_r', \n",
    "                zmin=-1, zmax=1)\n",
    "\n",
    "# Customize the layout to ensure all labels are readable\n",
    "fig2.update_layout(\n",
    "    title=\"Correlation Matrix\",\n",
    "    xaxis=dict(tickmode='array', tickvals=list(range(len(correlation_matrix3.columns))), ticktext=correlation_matrix3.columns),\n",
    "    yaxis=dict(tickmode='array', tickvals=list(range(len(correlation_matrix3.columns))), ticktext=correlation_matrix3.columns),\n",
    "    width=1000,  # You can further adjust the size of the plot\n",
    "    height=1000,\n",
    "    margin=dict(l=100, r=100, b=0, t=100)  # Adjust margins to fit labels\n",
    ")\n",
    "\n",
    "fig2.write_html(\"corr_matrix3.html\")\n",
    "\n",
    "from IPython.display import IFrame\n",
    "\n",
    "# Display the saved file directly in Jupyter Notebook\n",
    "IFrame(\"corr_matrix3.html\", width=1000, height=1000)"
   ]
  }
 ],
 "metadata": {
  "kernelspec": {
   "display_name": "Python 3",
   "language": "python",
   "name": "python3"
  },
  "language_info": {
   "codemirror_mode": {
    "name": "ipython",
    "version": 3
   },
   "file_extension": ".py",
   "mimetype": "text/x-python",
   "name": "python",
   "nbconvert_exporter": "python",
   "pygments_lexer": "ipython3",
   "version": "3.11.6"
  }
 },
 "nbformat": 4,
 "nbformat_minor": 2
}
